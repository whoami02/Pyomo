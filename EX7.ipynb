{
 "cells": [
  {
   "cell_type": "code",
   "execution_count": 5,
   "metadata": {},
   "outputs": [],
   "source": [
    "from pyomo.environ import *\n",
    "import numpy as np\n",
    "# heron problem"
   ]
  },
  {
   "cell_type": "code",
   "execution_count": 6,
   "metadata": {},
   "outputs": [],
   "source": [
    "model = ConcreteModel()\n",
    "model.L=Param(initialize=10)\n",
    "model.h1=Param(initialize=2)\n",
    "model.h2=Param(initialize=4)\n",
    "model.d1=Var(bounds=(0,model.L), initialize=0)\n",
    "model.d2=Var(bounds=(0,model.L), initialize=0)\n",
    "model.x=Var(bounds=(0,model.L), initialize=0)\n",
    "model.C1=Constraint(expr=  model.d1**2==model.h1**2+model.x**2)\n",
    "model.C2=Constraint(expr=  model.d2**2==model.h2**2+(model.L-model.x)**2)\n",
    "model.f1=Objective(expr=model.d1+model.d2,sense=minimize )"
   ]
  },
  {
   "cell_type": "code",
   "execution_count": 7,
   "metadata": {},
   "outputs": [],
   "source": [
    "solver = SolverFactory('ipopt')\n",
    "results=solver.solve(model);"
   ]
  },
  {
   "cell_type": "code",
   "execution_count": 8,
   "metadata": {},
   "outputs": [
    {
     "name": "stdout",
     "output_type": "stream",
     "text": [
      "d1= 3.89\n",
      "d2= 7.77\n",
      "x= 3.33\n",
      "f1= 11.66\n"
     ]
    }
   ],
   "source": [
    "print('d1=' , round(value(model.d1),2))\n",
    "print('d2=' ,round(value(model.d2),2))\n",
    "print('x=' ,round(value(model.x),2))\n",
    "print('f1=' ,round(value(model.f1),2))"
   ]
  },
  {
   "cell_type": "code",
   "execution_count": null,
   "metadata": {},
   "outputs": [],
   "source": []
  }
 ],
 "metadata": {
  "kernelspec": {
   "display_name": "Python 3",
   "language": "python",
   "name": "python3"
  },
  "language_info": {
   "codemirror_mode": {
    "name": "ipython",
    "version": 3
   },
   "file_extension": ".py",
   "mimetype": "text/x-python",
   "name": "python",
   "nbconvert_exporter": "python",
   "pygments_lexer": "ipython3",
   "version": "3.7.4"
  }
 },
 "nbformat": 4,
 "nbformat_minor": 4
}
