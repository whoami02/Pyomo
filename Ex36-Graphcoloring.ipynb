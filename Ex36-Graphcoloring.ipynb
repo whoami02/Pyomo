{
 "cells": [
  {
   "cell_type": "code",
   "execution_count": 1,
   "metadata": {},
   "outputs": [],
   "source": [
    "import matplotlib.pyplot as plt\n",
    "import networkx as nx\n",
    "G = nx.grid_2d_graph(5,5) \n",
    "pos = nx.spring_layout(G, iterations=100)"
   ]
  },
  {
   "cell_type": "code",
   "execution_count": 2,
   "metadata": {},
   "outputs": [],
   "source": [
    "from pyomo.environ import *\n",
    "import matplotlib.pyplot as plt\n",
    "import numpy as np\n",
    "import random \n",
    "import pandas as pd"
   ]
  },
  {
   "cell_type": "code",
   "execution_count": 3,
   "metadata": {},
   "outputs": [],
   "source": [
    "model = AbstractModel()\n",
    "model.N=Param(mutable=True)\n",
    "model.i = RangeSet(1,model.N)\n",
    "model.j = Set(initialize=model.i)\n",
    "model.kolor=RangeSet(1,model.N)\n",
    "model.L = Param(model.i,model.j, initialize=0,mutable=True)\n",
    "model.X = Var(model.i,model.kolor, domain=Binary)\n",
    "model.y = Var(within=NonNegativeReals)\n",
    "\n",
    "def rule_C1(model,i,j,c):\n",
    "    return model.L[i,j]*(model.X[i,c]+ model.X[j,c])<=1\n",
    "model.C1 = Constraint(model.i, model.j, model.kolor, rule=rule_C1)\n",
    "\n",
    "def rule_C2(model,i,c):\n",
    "    return model.y>=c*model.X[i,c]\n",
    "model.C2 = Constraint(model.i, model.kolor, rule=rule_C2)\n",
    "\n",
    "def rule_C3(model,i):\n",
    "    return sum(model.X[i,c] for c in model.kolor)==1\n",
    "model.C3 = Constraint(model.i, rule=rule_C3)\n",
    "model.OF=Objective(expr=model.y, sense=minimize)\n"
   ]
  },
  {
   "cell_type": "code",
   "execution_count": 4,
   "metadata": {},
   "outputs": [],
   "source": [
    "opt = SolverFactory('glpk')\n",
    "model.N=len(G.nodes)\n",
    "#instance = model.create_instance('Ex36.dat')\n",
    "instance = model.create_instance()\n"
   ]
  },
  {
   "cell_type": "code",
   "execution_count": 5,
   "metadata": {},
   "outputs": [
    {
     "name": "stdout",
     "output_type": "stream",
     "text": [
      "(0, 0)\n",
      "(0, 1)\n",
      "(0, 2)\n",
      "(0, 3)\n",
      "(0, 4)\n",
      "(1, 0)\n",
      "(1, 1)\n",
      "(1, 2)\n",
      "(1, 3)\n",
      "(1, 4)\n",
      "(2, 0)\n",
      "(2, 1)\n",
      "(2, 2)\n",
      "(2, 3)\n",
      "(2, 4)\n",
      "(3, 0)\n",
      "(3, 1)\n",
      "(3, 2)\n",
      "(3, 3)\n",
      "(3, 4)\n",
      "(4, 0)\n",
      "(4, 1)\n",
      "(4, 2)\n",
      "(4, 3)\n",
      "(4, 4)\n"
     ]
    }
   ],
   "source": [
    "counter=1\n",
    "edges=[]\n",
    "coordinates=[]\n",
    "nodes=[]\n",
    "xvec=[]\n",
    "yvec=[]\n",
    "for nd in G.nodes:\n",
    "    print(nd)\n",
    "    nodes.append(counter)\n",
    "    coordinates.append(nd)\n",
    "    xvec.append(nd[0])\n",
    "    yvec.append(nd[1])\n",
    "    counter+=1\n",
    "    \n",
    "mygraph = {'nodes': nodes,\n",
    "          'xy': coordinates,\n",
    "           'x': xvec,\n",
    "           'y': yvec}\n",
    "df = pd.DataFrame(mygraph, columns = ['nodes', 'xy','x','y'])\n",
    "    \n",
    "for i in instance.i:\n",
    "    for j in instance.j:\n",
    "        instance.L[i,j]=0\n",
    "\n",
    "for edg in G.edges:\n",
    "    fn=edg[0]\n",
    "    tn=edg[1]\n",
    "    ind1=(df['x'] == fn[0]) & (df['y'] == fn[1])\n",
    "    f=df.loc[ind1,'nodes']\n",
    "    ind2=(df['x'] == tn[0]) & (df['y'] == tn[1])\n",
    "    t=df.loc[ind2,'nodes']\n",
    "    i=f.iloc[0]\n",
    "    j=t.iloc[0]\n",
    "    instance.L[i,j]=1\n",
    "    instance.L[j,i]=1"
   ]
  },
  {
   "cell_type": "code",
   "execution_count": 11,
   "metadata": {},
   "outputs": [
    {
     "name": "stdout",
     "output_type": "stream",
     "text": [
      "(1, 2) 1\n",
      "(1, 6) 1\n",
      "(2, 1) 1\n",
      "(2, 3) 1\n",
      "(2, 7) 1\n",
      "(3, 2) 1\n",
      "(3, 4) 1\n",
      "(3, 8) 1\n",
      "(4, 3) 1\n",
      "(4, 5) 1\n",
      "(4, 9) 1\n",
      "(5, 4) 1\n",
      "(5, 10) 1\n",
      "(6, 1) 1\n",
      "(6, 7) 1\n",
      "(6, 11) 1\n",
      "(7, 2) 1\n",
      "(7, 6) 1\n",
      "(7, 8) 1\n",
      "(7, 12) 1\n",
      "(8, 3) 1\n",
      "(8, 7) 1\n",
      "(8, 9) 1\n",
      "(8, 13) 1\n",
      "(9, 4) 1\n",
      "(9, 8) 1\n",
      "(9, 10) 1\n",
      "(9, 14) 1\n",
      "(10, 5) 1\n",
      "(10, 9) 1\n",
      "(10, 15) 1\n",
      "(11, 6) 1\n",
      "(11, 12) 1\n",
      "(11, 16) 1\n",
      "(12, 7) 1\n",
      "(12, 11) 1\n",
      "(12, 13) 1\n",
      "(12, 17) 1\n",
      "(13, 8) 1\n",
      "(13, 12) 1\n",
      "(13, 14) 1\n",
      "(13, 18) 1\n",
      "(14, 9) 1\n",
      "(14, 13) 1\n",
      "(14, 15) 1\n",
      "(14, 19) 1\n",
      "(15, 10) 1\n",
      "(15, 14) 1\n",
      "(15, 20) 1\n",
      "(16, 11) 1\n",
      "(16, 17) 1\n",
      "(16, 21) 1\n",
      "(17, 12) 1\n",
      "(17, 16) 1\n",
      "(17, 18) 1\n",
      "(17, 22) 1\n",
      "(18, 13) 1\n",
      "(18, 17) 1\n",
      "(18, 19) 1\n",
      "(18, 23) 1\n",
      "(19, 14) 1\n",
      "(19, 18) 1\n",
      "(19, 20) 1\n",
      "(19, 24) 1\n",
      "(20, 15) 1\n",
      "(20, 19) 1\n",
      "(20, 25) 1\n",
      "(21, 16) 1\n",
      "(21, 22) 1\n",
      "(22, 17) 1\n",
      "(22, 21) 1\n",
      "(22, 23) 1\n",
      "(23, 18) 1\n",
      "(23, 22) 1\n",
      "(23, 24) 1\n",
      "(24, 19) 1\n",
      "(24, 23) 1\n",
      "(24, 25) 1\n",
      "(25, 20) 1\n",
      "(25, 24) 1\n"
     ]
    }
   ],
   "source": [
    "results = opt.solve(instance) \n",
    "for i in instance.i:\n",
    "    for j in instance.j:\n",
    "        if value(instance.L[i,j])>0:\n",
    "            print((i,j),value(instance.L[i,j]))"
   ]
  },
  {
   "cell_type": "code",
   "execution_count": 7,
   "metadata": {},
   "outputs": [
    {
     "name": "stdout",
     "output_type": "stream",
     "text": [
      "2.0\n",
      "(1, 1) 1.0\n",
      "(2, 2) 1.0\n",
      "(3, 1) 1.0\n",
      "(4, 2) 1.0\n",
      "(5, 1) 1.0\n",
      "(6, 2) 1.0\n",
      "(7, 1) 1.0\n",
      "(8, 2) 1.0\n",
      "(9, 1) 1.0\n",
      "(10, 2) 1.0\n",
      "(11, 1) 1.0\n",
      "(12, 2) 1.0\n",
      "(13, 1) 1.0\n",
      "(14, 2) 1.0\n",
      "(15, 1) 1.0\n",
      "(16, 2) 1.0\n",
      "(17, 1) 1.0\n",
      "(18, 2) 1.0\n",
      "(19, 1) 1.0\n",
      "(20, 2) 1.0\n",
      "(21, 1) 1.0\n",
      "(22, 2) 1.0\n",
      "(23, 1) 1.0\n",
      "(24, 2) 1.0\n",
      "(25, 1) 1.0\n"
     ]
    }
   ],
   "source": [
    "print(value(instance.y))\n",
    "for i in instance.i:\n",
    "    for c in instance.kolor:\n",
    "        if value(instance.X[i,c])>0:\n",
    "            print((i,c),value(instance.X[i,c]))"
   ]
  },
  {
   "cell_type": "code",
   "execution_count": 8,
   "metadata": {},
   "outputs": [
    {
     "name": "stdout",
     "output_type": "stream",
     "text": [
      "The solver returned a status of:ok\n",
      "this is feasible and optimal\n"
     ]
    }
   ],
   "source": [
    "   \n",
    "print (\"The solver returned a status of:\"+str(results.solver.status))\n",
    "from pyomo.opt import SolverStatus, TerminationCondition\n",
    "if (results.solver.status == SolverStatus.ok) and (results.solver.termination_condition == TerminationCondition.optimal):\n",
    "     print (\"this is feasible and optimal\")\n",
    "elif results.solver.termination_condition == TerminationCondition.infeasible:\n",
    "     print (\"do something about it? or exit?\")\n",
    "else:\n",
    "     # something else is wrong\n",
    "     print (str(results.solver))"
   ]
  },
  {
   "cell_type": "code",
   "execution_count": 9,
   "metadata": {},
   "outputs": [],
   "source": [
    "#instance.C1.pprint()"
   ]
  },
  {
   "cell_type": "code",
   "execution_count": 10,
   "metadata": {},
   "outputs": [
    {
     "name": "stderr",
     "output_type": "stream",
     "text": [
      "C:\\Users\\aija\\Anaconda3\\lib\\site-packages\\networkx\\drawing\\nx_pylab.py:579: MatplotlibDeprecationWarning: \n",
      "The iterable function was deprecated in Matplotlib 3.1 and will be removed in 3.3. Use np.iterable instead.\n",
      "  if not cb.iterable(width):\n"
     ]
    },
    {
     "data": {
      "image/png": "[encoded data removed]",
      "text/plain": [
       "<Figure size 432x288 with 1 Axes>"
      ]
     },
     "metadata": {},
     "output_type": "display_data"
    }
   ],
   "source": [
    "cvec=[]\n",
    "for i in instance.i:\n",
    "    for c in instance.kolor:\n",
    "        if value(instance.X[i,c])>0:\n",
    "            cvec.append(c)\n",
    "l1=nx.draw(G, pos, node_size=250, node_color=cvec,with_labels=False, width=6)\n",
    "plt.show()"
   ]
  },
  {
   "cell_type": "code",
   "execution_count": null,
   "metadata": {},
   "outputs": [],
   "source": []
  }
 ],
 "metadata": {
  "kernelspec": {
   "display_name": "Python 3",
   "language": "python",
   "name": "python3"
  },
  "language_info": {
   "codemirror_mode": {
    "name": "ipython",
    "version": 3
   },
   "file_extension": ".py",
   "mimetype": "text/x-python",
   "name": "python",
   "nbconvert_exporter": "python",
   "pygments_lexer": "ipython3",
   "version": "3.7.4"
  }
 },
 "nbformat": 4,
 "nbformat_minor": 1
}
