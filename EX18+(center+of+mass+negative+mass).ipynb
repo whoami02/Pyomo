{
 "cells": [
  {
   "cell_type": "code",
   "execution_count": 1,
   "metadata": {},
   "outputs": [],
   "source": [
    "from pyomo.environ import *\n",
    "import matplotlib.pyplot as plt\n",
    "import numpy as np\n",
    "import random "
   ]
  },
  {
   "cell_type": "code",
   "execution_count": 2,
   "metadata": {},
   "outputs": [],
   "source": [
    "model = AbstractModel()\n",
    "model.N =Param(mutable=True, default=5) \n",
    "model.i = RangeSet(1,model.N)\n",
    "\n",
    "def initval(model,i):\n",
    "    return random.uniform(0.1,0.9)\n",
    "\n",
    "def initvalM(model,i):\n",
    "    return 0.4*random.uniform(0,1)\n",
    "\n",
    "model.Xloc=Param(model.i,  within=NonNegativeReals, initialize=initval,mutable=True)\n",
    "model.Yloc=Param(model.i,  within=NonNegativeReals, initialize=initval, mutable=True)\n",
    "model.Mass=Param(model.i,  within=NonNegativeReals, initialize=initvalM, mutable=True)\n",
    "\n",
    "model.x = Var(bounds=(0,1), within=NonNegativeReals, initialize=0.1)\n",
    "model.y = Var(bounds=(0,1), within=NonNegativeReals, initialize=0.3)\n",
    "\n",
    "def rule_C2(model):\n",
    "    return model.x==sum(1*0.5-np.pi*model.Xloc[i]*model.Mass[i]**2 for i in model.i)/sum(1-np.pi*model.Mass[i]**2 for i in model.i)\n",
    "model.C2   = Constraint(rule=rule_C2)\n",
    "\n",
    "def rule_C3(model):\n",
    "    return model.y==sum(1*0.5-np.pi*model.Yloc[i]*model.Mass[i]**2 for i in model.i)/sum(1-np.pi*model.Mass[i]**2 for i in model.i)\n",
    "model.C3   = Constraint(rule=rule_C3)\n",
    "model.obj1 = Objective(expr=model.x , sense=maximize)\n",
    "#instance.display()"
   ]
  },
  {
   "cell_type": "code",
   "execution_count": 3,
   "metadata": {},
   "outputs": [],
   "source": [
    "opt = SolverFactory('glpk')\n",
    "instance = model.create_instance()"
   ]
  },
  {
   "cell_type": "code",
   "execution_count": 4,
   "metadata": {},
   "outputs": [
    {
     "data": {
      "image/png": "[encoded data removed]",
      "text/plain": [
       "<Figure size 504x432 with 1 Axes>"
      ]
     },
     "metadata": {},
     "output_type": "display_data"
    }
   ],
   "source": [
    "fig = plt.figure(figsize=(7,6),facecolor='black')\n",
    "#plt.style.use('dark_background')\n",
    "for i in instance.i:\n",
    "    plt.scatter(value(instance.Xloc[i]),value(instance.Yloc[i]),s=3000*value(instance.Mass[i]),color='white')\n",
    "    \n",
    "results = opt.solve(instance) # solves and updates instance\n",
    "\n",
    "plt.scatter(value(instance.x),value(instance.y),color='red',s=30)\n",
    "plt.scatter(0.5,0.5,color='yellow',s=30)\n",
    "\n",
    "\n",
    "theta=np.linspace(0,2*np.pi,100)\n",
    "Xc=value(instance.x)+0.05*np.cos(theta)\n",
    "Yc=value(instance.y)+0.05*np.sin(theta)\n",
    "plt.plot(Xc,Yc,'--',lw=3)\n",
    "plt.axis('off')\n",
    "plt.xlabel('X')\n",
    "plt.ylabel('Y')\n",
    "plt.xlim(0,1)\n",
    "plt.ylim(0,1)\n",
    "plt.show()"
   ]
  },
  {
   "cell_type": "code",
   "execution_count": null,
   "metadata": {},
   "outputs": [],
   "source": []
  }
 ],
 "metadata": {
  "kernelspec": {
   "display_name": "Python 3",
   "language": "python",
   "name": "python3"
  },
  "language_info": {
   "codemirror_mode": {
    "name": "ipython",
    "version": 3
   },
   "file_extension": ".py",
   "mimetype": "text/x-python",
   "name": "python",
   "nbconvert_exporter": "python",
   "pygments_lexer": "ipython3",
   "version": "3.7.4"
  }
 },
 "nbformat": 4,
 "nbformat_minor": 4
}
