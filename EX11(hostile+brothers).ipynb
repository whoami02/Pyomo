{
 "cells": [
  {
   "cell_type": "code",
   "execution_count": 7,
   "metadata": {},
   "outputs": [],
   "source": [
    "from pyomo.environ import *\n",
    "import matplotlib.pyplot as plt\n",
    "import random "
   ]
  },
  {
   "cell_type": "code",
   "execution_count": 8,
   "metadata": {},
   "outputs": [],
   "source": [
    "model = AbstractModel()\n",
    "model.N = Param(mutable=True)\n",
    "model.i = RangeSet(1, model.N)\n",
    "model.j = Set(initialize=model.i)\n",
    "model.L=Param(initialize=1,mutable=True)\n",
    "def initval(model,i):\n",
    "    return random.uniform(0,1)\n",
    "\n",
    "model.x = Var(model.i , bounds=(0,model.L), within=NonNegativeReals, initialize=initval)\n",
    "model.y = Var(model.i ,bounds=(0,model.L) , within=NonNegativeReals, initialize=initval)\n",
    "model.r = Var(within=NonNegativeReals)\n",
    "def C1_rule(model,i,j):\n",
    "    if i!=j:\n",
    "        return (model.x[i]-model.x[j])**2+(model.y[i]-model.y[j])**2 >=model.r**2\n",
    "    else:\n",
    "        return Constraint.Skip\n",
    "model.C   = Constraint(model.i,model.j, rule=C1_rule)\n",
    "model.obj = Objective(expr=model.r, sense=maximize)\n",
    "opt = SolverFactory('ipopt')\n"
   ]
  },
  {
   "cell_type": "code",
   "execution_count": 13,
   "metadata": {},
   "outputs": [],
   "source": [
    "#instance = model.create_instance(\"EX11.dat\")\n",
    "model.N=40\n",
    "instance = model.create_instance()\n",
    "results = opt.solve(instance) # solves and updates instance"
   ]
  },
  {
   "cell_type": "code",
   "execution_count": 14,
   "metadata": {},
   "outputs": [
    {
     "name": "stdout",
     "output_type": "stream",
     "text": [
      "Min distance is  0.184\n"
     ]
    },
    {
     "data": {
      "image/png": "[encoded data removed]",
      "text/plain": [
       "<Figure size 432x288 with 1 Axes>"
      ]
     },
     "metadata": {
      "needs_background": "light"
     },
     "output_type": "display_data"
    }
   ],
   "source": [
    "X=[value(instance.x[i]) for i in instance.i]\n",
    "Y=[value(instance.y[i]) for i in instance.i]\n",
    "plt.scatter( X,Y,s=25,color='blue')\n",
    "plt.xlabel('X')\n",
    "plt.ylabel('Y')\n",
    "plt.title('Hostile brothers for N='+str(value(instance.N)))\n",
    "print('Min distance is ',round(value(instance.r),3))"
   ]
  },
  {
   "cell_type": "code",
   "execution_count": null,
   "metadata": {},
   "outputs": [],
   "source": []
  }
 ],
 "metadata": {
  "kernelspec": {
   "display_name": "Python 3",
   "language": "python",
   "name": "python3"
  },
  "language_info": {
   "codemirror_mode": {
    "name": "ipython",
    "version": 3
   },
   "file_extension": ".py",
   "mimetype": "text/x-python",
   "name": "python",
   "nbconvert_exporter": "python",
   "pygments_lexer": "ipython3",
   "version": "3.7.4"
  }
 },
 "nbformat": 4,
 "nbformat_minor": 4
}
