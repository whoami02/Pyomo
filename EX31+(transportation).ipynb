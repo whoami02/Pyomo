{
 "cells": [
  {
   "cell_type": "code",
   "execution_count": 1,
   "metadata": {},
   "outputs": [],
   "source": [
    "from pyomo.environ import *\n",
    "import matplotlib.pyplot as plt\n",
    "import numpy as np\n",
    "import random "
   ]
  },
  {
   "cell_type": "code",
   "execution_count": 2,
   "metadata": {},
   "outputs": [],
   "source": [
    "model = AbstractModel()\n",
    "model.i = Set()\n",
    "model.j = Set()\n",
    "model.Demand =Param(model.j) \n",
    "model.pmin = Param(model.i)\n",
    "model.pmax = Param(model.i)\n",
    "model.Cost = Param(model.i)\n",
    "\n",
    "model.distance = Param(model.i,model.j, within=Reals)\n",
    "\n",
    "model.x = Var(model.i,model.j, bounds=(0,300), within=Reals)\n",
    "model.OF = Var(within=Reals)\n",
    "\n",
    "def Pbounds(model,i):\n",
    "    return (model.pmin[i] , model.pmax[i])\n",
    "model.P = Var(model.i, bounds=Pbounds, domain=Reals)\n",
    "\n",
    "def rule_C1(model,i):\n",
    "        return  sum(model.x[i,j] for j in model.j)==model.P[i]\n",
    "model.C1   = Constraint(model.i,rule=rule_C1)\n",
    "\n",
    "def rule_C2(model,j):\n",
    "        return  sum(model.x[i,j] for i in model.i)>=model.Demand[j]\n",
    "model.C2   = Constraint(model.j,rule=rule_C2)\n",
    "def rule_OF(model):\n",
    "    return model.OF==sum(model.P[i]*model.Cost[i] for i in model.i) + sum(model.x[i,j]*model.distance[i,j] for i in model.i for j in model.j)\n",
    "model.C3   = Constraint(rule=rule_OF)\n",
    "model.obj1 = Objective(expr=model.OF, sense=minimize)\n"
   ]
  },
  {
   "cell_type": "code",
   "execution_count": 3,
   "metadata": {},
   "outputs": [
    {
     "name": "stdout",
     "output_type": "stream",
     "text": [
      "OF=  10730.0\n"
     ]
    }
   ],
   "source": [
    "opt = SolverFactory('glpk')\n",
    "instance = model.create_instance(\"Ex31.dat\")\n",
    "results = opt.solve(instance) # solves and updates instance\n",
    "print('OF= ',value(instance.OF))\n"
   ]
  },
  {
   "cell_type": "code",
   "execution_count": 4,
   "metadata": {},
   "outputs": [
    {
     "name": "stdout",
     "output_type": "stream",
     "text": [
      "300.0 0 900\n",
      "(1, 1) 0.0\n",
      "(1, 2) 0.0\n",
      "(1, 3) 300.0\n",
      "(1, 4) 0.0\n",
      "620.0 10 850\n",
      "(2, 1) 210.0\n",
      "(2, 2) 170.0\n",
      "(2, 3) 120.0\n",
      "(2, 4) 120.0\n",
      "20.0 20 750\n",
      "(3, 1) 0.0\n",
      "(3, 2) 20.0\n",
      "(3, 3) 0.0\n",
      "(3, 4) 0.0\n"
     ]
    }
   ],
   "source": [
    "for i in instance.i:\n",
    "    print(value(instance.P[i]),value(instance.pmin[i]),value(instance.pmax[i]))\n",
    "    for j in instance.j:\n",
    "        print((i,j),value(instance.x[i,j]))"
   ]
  },
  {
   "cell_type": "code",
   "execution_count": 12,
   "metadata": {},
   "outputs": [
    {
     "data": {
      "text/plain": [
       "(0.03994114416376294,\n",
       " 0.9604738561317497,\n",
       " 0.03895810765630181,\n",
       " 0.9610612084712065)"
      ]
     },
     "execution_count": 12,
     "metadata": {},
     "output_type": "execute_result"
    },
    {
     "data": {
      "image/png": "[encoded data removed]",
      "text/plain": [
       "<Figure size 504x504 with 1 Axes>"
      ]
     },
     "metadata": {
      "needs_background": "light"
     },
     "output_type": "display_data"
    }
   ],
   "source": [
    "fig = plt.figure(figsize=(7,7))\n",
    "Ni=3\n",
    "Nj=4\n",
    "supplyY=np.linspace(0.1,0.9,Ni)\n",
    "supplyX=0.1*np.ones_like(supplyY)\n",
    "demandY=np.linspace(0.1,0.9,Nj)\n",
    "demandX=0.9*np.ones_like(demandY)\n",
    "\n",
    "for i in instance.i:\n",
    "    for j in instance.j:\n",
    "        if value(instance.x[i,j])>0.1:\n",
    "            plt.plot([supplyX[Ni-i],demandX[Nj-j]],[supplyY[Ni-i],demandY[Nj-j]],lw=value(instance.x[i,j])/30)\n",
    "for c in range(0,Ni):\n",
    "    plt.scatter(supplyX[c],supplyY[c],s=250)\n",
    "    plt.text(supplyX[Ni-c-1]-0.05,supplyY[Ni-c-1],'S'+str(c+1),fontweight='bold')\n",
    "for c in range(0,Nj):\n",
    "    plt.scatter(demandX[c],demandY[c],s=250)\n",
    "    plt.text(demandX[Nj-c-1]+0.03,demandY[Nj-c-1],'D'+str(c+1),fontweight='bold')\n",
    "plt.axis('off')\n"
   ]
  },
  {
   "cell_type": "code",
   "execution_count": null,
   "metadata": {},
   "outputs": [],
   "source": []
  }
 ],
 "metadata": {
  "kernelspec": {
   "display_name": "Python 3",
   "language": "python",
   "name": "python3"
  },
  "language_info": {
   "codemirror_mode": {
    "name": "ipython",
    "version": 3
   },
   "file_extension": ".py",
   "mimetype": "text/x-python",
   "name": "python",
   "nbconvert_exporter": "python",
   "pygments_lexer": "ipython3",
   "version": "3.7.4"
  }
 },
 "nbformat": 4,
 "nbformat_minor": 4
}
