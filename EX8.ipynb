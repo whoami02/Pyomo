{
 "cells": [
  {
   "cell_type": "code",
   "execution_count": 1,
   "metadata": {},
   "outputs": [],
   "source": [
    "from pyomo.environ import *\n",
    "import matplotlib.pyplot as plt\n",
    "import numpy as np\n",
    "import random \n",
    "# Steiner problem"
   ]
  },
  {
   "cell_type": "code",
   "execution_count": 2,
   "metadata": {},
   "outputs": [],
   "source": [
    "model = ConcreteModel()\n",
    "model.b=Param(initialize=4,mutable=True)\n",
    "model.a=Param(initialize=6,mutable=True)\n",
    "model.x=Var(bounds=(0,model.a), initialize=0.1)\n",
    "model.y=Var(bounds=(0,model.b), initialize=0.1)\n",
    "model.f1=Objective(expr= sqrt((model.x-0)**2+(model.y-0)**2)+ sqrt((model.x-0)**2+(model.y-model.b)**2)+sqrt((model.x-model.a)**2+(model.y-0)**2) ,sense=minimize )"
   ]
  },
  {
   "cell_type": "code",
   "execution_count": 3,
   "metadata": {},
   "outputs": [],
   "source": [
    "solver = SolverFactory('ipopt')\n",
    "results=solver.solve(model);"
   ]
  },
  {
   "cell_type": "code",
   "execution_count": 4,
   "metadata": {},
   "outputs": [
    {
     "name": "stdout",
     "output_type": "stream",
     "text": [
      "X=   0.96\n",
      "Y=   1.07\n",
      "OF=  9.67\n"
     ]
    }
   ],
   "source": [
    "print('X=  ' , round(value(model.x),2))\n",
    "print('Y=  ' ,round(value(model.y),2))\n",
    "print('OF= ' ,round(value(model.f1),2))"
   ]
  },
  {
   "cell_type": "code",
   "execution_count": 5,
   "metadata": {},
   "outputs": [
    {
     "name": "stdout",
     "output_type": "stream",
     "text": [
      "6 4\n"
     ]
    },
    {
     "data": {
      "image/png": "[encoded data removed]",
      "text/plain": [
       "<Figure size 432x288 with 1 Axes>"
      ]
     },
     "metadata": {
      "needs_background": "light"
     },
     "output_type": "display_data"
    }
   ],
   "source": [
    "x=[0, value(model.a), 0]\n",
    "y=[0, 0, value(model.b)]\n",
    "plt.scatter(x,y)\n",
    "plt.scatter( value(model.x), value(model.y),s=55)\n",
    "print(value(model.a),value(model.b))"
   ]
  },
  {
   "cell_type": "code",
   "execution_count": null,
   "metadata": {},
   "outputs": [],
   "source": []
  }
 ],
 "metadata": {
  "kernelspec": {
   "display_name": "Python 3",
   "language": "python",
   "name": "python3"
  },
  "language_info": {
   "codemirror_mode": {
    "name": "ipython",
    "version": 3
   },
   "file_extension": ".py",
   "mimetype": "text/x-python",
   "name": "python",
   "nbconvert_exporter": "python",
   "pygments_lexer": "ipython3",
   "version": "3.7.4"
  }
 },
 "nbformat": 4,
 "nbformat_minor": 4
}
