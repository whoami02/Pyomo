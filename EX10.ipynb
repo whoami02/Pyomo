{
 "cells": [
  {
   "cell_type": "code",
   "execution_count": 2,
   "metadata": {},
   "outputs": [],
   "source": [
    "from pyomo.environ import *\n",
    "import numpy as np"
   ]
  },
  {
   "cell_type": "code",
   "execution_count": null,
   "metadata": {},
   "outputs": [],
   "source": [
    "model = AbstractModel()\n",
    "model.N = Set()\n",
    "model.M = Set()\n",
    "model.c = Param(model.N)\n",
    "model.a = Param(model.M, model.N)\n",
    "model.b = Param(model.M)\n",
    "model.x = Var(model.N, within=NonNegativeReals)\n",
    "def con_rule(model, m):\n",
    "    return sum(model.a[m,i]*model.x[i] for i in model.N) >= model.b[m]\n",
    "model.con = Constraint(model.M, rule=con_rule)\n",
    "\n",
    "def obj_rule(model):\n",
    "    return sum(model.c[i]*model.x[i] for i in model.N)\n",
    "model.OF = Objective(rule=obj_rule,sense=minimize)"
   ]
  },
  {
   "cell_type": "code",
   "execution_count": 4,
   "metadata": {},
   "outputs": [],
   "source": [
    "opt = SolverFactory('glpk')\n",
    "instance = model.create_instance(\"Ex10.dat\")\n",
    "results = opt.solve(instance) # solves and updates instance"
   ]
  },
  {
   "cell_type": "code",
   "execution_count": 5,
   "metadata": {},
   "outputs": [
    {
     "name": "stdout",
     "output_type": "stream",
     "text": [
      "X1=  1.33\n",
      "X2=  0.0\n",
      "OF= 9.33\n"
     ]
    }
   ],
   "source": [
    "for i in instance.N:\n",
    "    print('X'+str(i)+'= ',round(value(instance.x[i]),2))\n",
    "print('OF=',round(value(instance.OF),2))"
   ]
  },
  {
   "cell_type": "code",
   "execution_count": null,
   "metadata": {},
   "outputs": [],
   "source": []
  }
 ],
 "metadata": {
  "kernelspec": {
   "display_name": "Python 3",
   "language": "python",
   "name": "python3"
  },
  "language_info": {
   "codemirror_mode": {
    "name": "ipython",
    "version": 3
   },
   "file_extension": ".py",
   "mimetype": "text/x-python",
   "name": "python",
   "nbconvert_exporter": "python",
   "pygments_lexer": "ipython3",
   "version": "3.7.4"
  }
 },
 "nbformat": 4,
 "nbformat_minor": 4
}
