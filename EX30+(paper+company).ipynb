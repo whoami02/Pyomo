{
 "cells": [
  {
   "cell_type": "code",
   "execution_count": 1,
   "metadata": {},
   "outputs": [],
   "source": [
    "from pyomo.environ import *\n",
    "import matplotlib.pyplot as plt\n",
    "import numpy as np\n",
    "import random "
   ]
  },
  {
   "cell_type": "code",
   "execution_count": 2,
   "metadata": {},
   "outputs": [],
   "source": [
    "model = ConcreteModel()\n",
    "model.N =Param(mutable=True, initialize=15) \n",
    "model.i = RangeSet(1,model.N)\n",
    "\n",
    "model.U = Var(model.i, within=Binary, initialize=0)\n",
    "model.x = Var(model.i, bounds=(0,4), domain=NonNegativeIntegers,initialize=0)\n",
    "model.y = Var(model.i, bounds=(0,2), domain=NonNegativeIntegers,initialize=0)\n",
    "model.z = Var(model.i, bounds=(0,2), domain=NonNegativeIntegers,initialize=0)\n",
    "model.OF = Var(within=Reals, initialize=0)\n",
    "\n",
    "def rule_C1(model,i):\n",
    "        return 5*model.x[i]+7*model.y[i]+9*model.z[i] <=20*model.U[i]\n",
    "model.C1   = Constraint(model.i,rule=rule_C1)\n",
    "\n",
    "def rule_C2(model):\n",
    "        return sum(model.x[i] for i in model.i)==10\n",
    "model.C2   = Constraint(model.i,rule=rule_C2)\n",
    "\n",
    "def rule_C3(model):\n",
    "        return sum(model.y[i] for i in model.i)==12\n",
    "model.C3   = Constraint(model.i,rule=rule_C3)\n",
    "def rule_C4(model):\n",
    "        return sum(model.z[i] for i in model.i)==5\n",
    "model.C4   = Constraint(model.i,rule=rule_C4)\n",
    "def rule_OF(model):\n",
    "    return model.OF==sum(model.U[i] for i in model.i)\n",
    "model.C5   = Constraint(rule=rule_OF)\n",
    "model.obj1 = Objective(expr=model.OF, sense=minimize)"
   ]
  },
  {
   "cell_type": "code",
   "execution_count": 3,
   "metadata": {},
   "outputs": [
    {
     "name": "stdout",
     "output_type": "stream",
     "text": [
      "OF=  10.0\n"
     ]
    }
   ],
   "source": [
    "opt = SolverFactory('glpk')\n",
    "results=opt.solve(model)\n",
    "print('OF= ',value(model.OF))\n",
    "#model.display()"
   ]
  },
  {
   "cell_type": "code",
   "execution_count": 4,
   "metadata": {},
   "outputs": [
    {
     "name": "stdout",
     "output_type": "stream",
     "text": [
      "   U   x  y   z \n",
      "1 1.0 2.0 0.0 1.0\n",
      "3 1.0 1.0 2.0 0.0\n",
      "5 1.0 0.0 0.0 2.0\n",
      "7 1.0 1.0 2.0 0.0\n",
      "8 1.0 4.0 0.0 0.0\n",
      "9 1.0 1.0 2.0 0.0\n",
      "10 1.0 0.0 0.0 2.0\n",
      "13 1.0 0.0 2.0 0.0\n",
      "14 1.0 1.0 2.0 0.0\n",
      "15 1.0 0.0 2.0 0.0\n"
     ]
    }
   ],
   "source": [
    "print('   U   x  y   z ')\n",
    "for i in model.i:\n",
    "    if value(model.U[i])==1:\n",
    "        print(i,value(model.U[i]),value(model.x[i]),value(model.y[i]),value(model.z[i]) )"
   ]
  },
  {
   "cell_type": "code",
   "execution_count": 5,
   "metadata": {},
   "outputs": [
    {
     "name": "stdout",
     "output_type": "stream",
     "text": [
      "C5 : Size=1, Index=None, Active=True\n",
      "    Key  : Lower : Body                                                                                                                : Upper : Active\n",
      "    None :   0.0 : OF - (U[1] + U[2] + U[3] + U[4] + U[5] + U[6] + U[7] + U[8] + U[9] + U[10] + U[11] + U[12] + U[13] + U[14] + U[15]) :   0.0 :   True\n"
     ]
    }
   ],
   "source": [
    "model.C5.pprint()"
   ]
  },
  {
   "cell_type": "code",
   "execution_count": null,
   "metadata": {},
   "outputs": [],
   "source": []
  }
 ],
 "metadata": {
  "kernelspec": {
   "display_name": "Python 3",
   "language": "python",
   "name": "python3"
  },
  "language_info": {
   "codemirror_mode": {
    "name": "ipython",
    "version": 3
   },
   "file_extension": ".py",
   "mimetype": "text/x-python",
   "name": "python",
   "nbconvert_exporter": "python",
   "pygments_lexer": "ipython3",
   "version": "3.7.4"
  }
 },
 "nbformat": 4,
 "nbformat_minor": 4
}
