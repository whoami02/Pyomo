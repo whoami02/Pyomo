{
 "cells": [
  {
   "cell_type": "code",
   "execution_count": 5,
   "metadata": {},
   "outputs": [],
   "source": [
    "from pyomo.environ import *\n",
    "import matplotlib.pyplot as plt\n",
    "import numpy as np\n",
    "import random "
   ]
  },
  {
   "cell_type": "code",
   "execution_count": 6,
   "metadata": {},
   "outputs": [],
   "source": [
    "model = AbstractModel()\n",
    "model.N = Param(mutable=True)\n",
    "model.i = RangeSet(1, model.N)\n",
    "model.j = Set(initialize=model.i)\n",
    "model.a=Param(mutable=True)\n",
    "model.b=Param(mutable=True)\n",
    "\n",
    "\n",
    "def initval(model,i):\n",
    "    return random.uniform(0,1)\n",
    "\n",
    "model.x = Var(model.i , bounds=(0,model.b), within=NonNegativeReals, initialize=initval)\n",
    "model.y = Var(model.i ,bounds=(0,model.a) , within=NonNegativeReals, initialize=initval)\n",
    "model.r = Var(within=NonNegativeReals)\n",
    "def C1_rule(model,i,j):\n",
    "    if i!=j:\n",
    "        return (model.x[i]-model.x[j])**2+(model.y[i]-model.y[j])**2 >=model.r**2\n",
    "    else:\n",
    "        return Constraint.Skip\n",
    "model.C1   = Constraint(model.i,model.j, rule=C1_rule)\n",
    "\n",
    "def C2_rule(model,i):\n",
    "        return -model.a/model.b*model.x[i]+model.a >=model.y[i]\n",
    "model.C2   = Constraint(model.i, rule=C2_rule)\n",
    "\n",
    "\n",
    "model.obj = Objective(expr=model.r, sense=maximize)\n",
    "opt = SolverFactory('ipopt')\n",
    "#instance.display()"
   ]
  },
  {
   "cell_type": "code",
   "execution_count": 9,
   "metadata": {},
   "outputs": [],
   "source": [
    "#instance = model.create_instance(\"EX22.dat\")\n",
    "model.a=1\n",
    "model.b=2\n",
    "model.N=10\n",
    "instance = model.create_instance()\n",
    "results = opt.solve(instance) # solves and updates instance"
   ]
  },
  {
   "cell_type": "code",
   "execution_count": 10,
   "metadata": {},
   "outputs": [
    {
     "name": "stdout",
     "output_type": "stream",
     "text": [
      "Min distance is  0.478\n"
     ]
    },
    {
     "data": {
      "image/png": "[encoded data removed]",
      "text/plain": [
       "<Figure size 432x288 with 1 Axes>"
      ]
     },
     "metadata": {
      "needs_background": "light"
     },
     "output_type": "display_data"
    }
   ],
   "source": [
    "X=[value(instance.x[i]) for i in instance.i]\n",
    "Y=[value(instance.y[i]) for i in instance.i]\n",
    "plt.scatter( X,Y,s=25,color='red')\n",
    "plt.xlabel('X')\n",
    "plt.ylabel('Y')\n",
    "plt.title('Hostile brothers for n='+str(value(instance.N)))\n",
    "print('Min distance is ',round(value(instance.r),3))"
   ]
  },
  {
   "cell_type": "code",
   "execution_count": null,
   "metadata": {},
   "outputs": [],
   "source": []
  }
 ],
 "metadata": {
  "kernelspec": {
   "display_name": "Python 3",
   "language": "python",
   "name": "python3"
  },
  "language_info": {
   "codemirror_mode": {
    "name": "ipython",
    "version": 3
   },
   "file_extension": ".py",
   "mimetype": "text/x-python",
   "name": "python",
   "nbconvert_exporter": "python",
   "pygments_lexer": "ipython3",
   "version": "3.7.4"
  }
 },
 "nbformat": 4,
 "nbformat_minor": 4
}
