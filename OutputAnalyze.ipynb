{
 "cells": [
  {
   "cell_type": "code",
   "execution_count": 1,
   "metadata": {},
   "outputs": [],
   "source": [
    "from pyomo.environ import *"
   ]
  },
  {
   "cell_type": "code",
   "execution_count": 2,
   "metadata": {},
   "outputs": [],
   "source": [
    "model = AbstractModel() \n",
    "model.x1 = Var(bounds=(0,100) , within=NonNegativeReals) \n",
    "model.x2 = Var(bounds=(0,100) , within=NonNegativeReals) \n",
    "model.con1 = Constraint(expr=model.x1+2*model.x2 <= 8) \n",
    "model.con2 = Constraint(expr=4*model.x1-model.x2 <= 2) \n",
    "def obj_rule(model): \n",
    "    return 2*model.x1+3*model.x2 \n",
    "model.OF = Objective(rule=obj_rule,sense=maximize)"
   ]
  },
  {
   "cell_type": "code",
   "execution_count": 3,
   "metadata": {},
   "outputs": [],
   "source": [
    "opt = SolverFactory('glpk')\n",
    "instance = model.create_instance()\n",
    "results = opt.solve(instance) "
   ]
  },
  {
   "cell_type": "code",
   "execution_count": 4,
   "metadata": {},
   "outputs": [
    {
     "name": "stdout",
     "output_type": "stream",
     "text": [
      "X1= 1.33\n",
      "X2= 3.33\n",
      "OF= 12.67\n"
     ]
    }
   ],
   "source": [
    "print('X1=',round(value(instance.x1),2))\n",
    "print('X2=',round(value(instance.x2),2))\n",
    "print('OF=',round(value(instance.OF),2))"
   ]
  },
  {
   "cell_type": "code",
   "execution_count": 5,
   "metadata": {},
   "outputs": [
    {
     "name": "stdout",
     "output_type": "stream",
     "text": [
      "feasible\n"
     ]
    }
   ],
   "source": [
    "if (results.solver.status == SolverStatus.ok) and (results.solver.termination_condition == TerminationCondition.optimal):\n",
    "    print('feasible')\n",
    "elif (results.solver.termination_condition == TerminationCondition.infeasible):\n",
    "    print('infeasible')\n",
    "else:\n",
    "    print ('Solver Status:',  result.solver.status)"
   ]
  },
  {
   "cell_type": "code",
   "execution_count": 6,
   "metadata": {},
   "outputs": [
    {
     "name": "stdout",
     "output_type": "stream",
     "text": [
      "2 Var Declarations\n",
      "    x1 : Size=1, Index=None\n",
      "        Key  : Lower : Value            : Upper : Fixed : Stale : Domain\n",
      "        None :     0 : 1.33333333333333 :   100 : False : False : NonNegativeReals\n",
      "    x2 : Size=1, Index=None\n",
      "        Key  : Lower : Value            : Upper : Fixed : Stale : Domain\n",
      "        None :     0 : 3.33333333333333 :   100 : False : False : NonNegativeReals\n",
      "\n",
      "1 Objective Declarations\n",
      "    OF : Size=1, Index=None, Active=True\n",
      "        Key  : Active : Sense    : Expression\n",
      "        None :   True : maximize : 2*x1 + 3*x2\n",
      "\n",
      "2 Constraint Declarations\n",
      "    con1 : Size=1, Index=None, Active=True\n",
      "        Key  : Lower : Body      : Upper : Active\n",
      "        None :  -Inf : x1 + 2*x2 :   8.0 :   True\n",
      "    con2 : Size=1, Index=None, Active=True\n",
      "        Key  : Lower : Body      : Upper : Active\n",
      "        None :  -Inf : 4*x1 - x2 :   2.0 :   True\n",
      "\n",
      "5 Declarations: x1 x2 con1 con2 OF\n"
     ]
    }
   ],
   "source": [
    "instance.pprint()"
   ]
  },
  {
   "cell_type": "code",
   "execution_count": 11,
   "metadata": {},
   "outputs": [
    {
     "name": "stdout",
     "output_type": "stream",
     "text": [
      "# ==========================================================\n",
      "# = Solver Results                                         =\n",
      "# ==========================================================\n",
      "# ----------------------------------------------------------\n",
      "#   Problem Information\n",
      "# ----------------------------------------------------------\n",
      "Problem: \n",
      "- Name: unknown\n",
      "  Lower bound: 12.6666666666667\n",
      "  Upper bound: 12.6666666666667\n",
      "  Number of objectives: 1\n",
      "  Number of constraints: 3\n",
      "  Number of variables: 3\n",
      "  Number of nonzeros: 5\n",
      "  Sense: maximize\n",
      "# ----------------------------------------------------------\n",
      "#   Solver Information\n",
      "# ----------------------------------------------------------\n",
      "Solver: \n",
      "- Status: ok\n",
      "  Termination condition: optimal\n",
      "  Statistics: \n",
      "    Branch and bound: \n",
      "      Number of bounded subproblems: 0\n",
      "      Number of created subproblems: 0\n",
      "  Error rc: 0\n",
      "  Time: 0.011511802673339844\n",
      "# ----------------------------------------------------------\n",
      "#   Solution Information\n",
      "# ----------------------------------------------------------\n",
      "Solution: \n",
      "- number of solutions: 0\n",
      "  number of solutions displayed: 0\n"
     ]
    }
   ],
   "source": [
    "results.write()"
   ]
  },
  {
   "cell_type": "code",
   "execution_count": null,
   "metadata": {},
   "outputs": [],
   "source": []
  }
 ],
 "metadata": {
  "kernelspec": {
   "display_name": "Python 3",
   "language": "python",
   "name": "python3"
  },
  "language_info": {
   "codemirror_mode": {
    "name": "ipython",
    "version": 3
   },
   "file_extension": ".py",
   "mimetype": "text/x-python",
   "name": "python",
   "nbconvert_exporter": "python",
   "pygments_lexer": "ipython3",
   "version": "3.7.4"
  }
 },
 "nbformat": 4,
 "nbformat_minor": 4
}
