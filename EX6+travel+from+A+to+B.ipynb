{
 "cells": [
  {
   "cell_type": "code",
   "execution_count": 1,
   "metadata": {},
   "outputs": [],
   "source": [
    "from pyomo.environ import *\n",
    "import numpy as np\n",
    "# max f1 = 2rcos(theta)/V1+r2theta/V2 <br>\n",
    "# 0<theta<pi/2 \n",
    "#find the min time to travel from A to B"
   ]
  },
  {
   "cell_type": "code",
   "execution_count": 2,
   "metadata": {},
   "outputs": [],
   "source": [
    "model = ConcreteModel()\n",
    "model.r=Param(initialize=10)\n",
    "model.V1=Param(initialize=4)\n",
    "model.V2=Param(initialize=3)\n",
    "model.theta=Var(bounds=(0,np.pi/2), initialize=np.pi/3)\n",
    "model.OF=Objective(expr=2*model.r*cos(model.theta)/model.V1+ 2*model.theta*model.r/model.V2,sense=minimize )"
   ]
  },
  {
   "cell_type": "code",
   "execution_count": 3,
   "metadata": {},
   "outputs": [],
   "source": [
    "solver = SolverFactory('ipopt')\n",
    "results=solver.solve(model);"
   ]
  },
  {
   "cell_type": "code",
   "execution_count": 4,
   "metadata": {},
   "outputs": [
    {
     "name": "stdout",
     "output_type": "stream",
     "text": [
      "therta=  0\n",
      "OF=  5.0\n"
     ]
    }
   ],
   "source": [
    "print('therta= ',round(value(model.theta)*180/np.pi))\n",
    "print('OF= ',round(value(model.OF),2))"
   ]
  },
  {
   "cell_type": "code",
   "execution_count": null,
   "metadata": {},
   "outputs": [],
   "source": []
  }
 ],
 "metadata": {
  "kernelspec": {
   "display_name": "Python 3",
   "language": "python",
   "name": "python3"
  },
  "language_info": {
   "codemirror_mode": {
    "name": "ipython",
    "version": 3
   },
   "file_extension": ".py",
   "mimetype": "text/x-python",
   "name": "python",
   "nbconvert_exporter": "python",
   "pygments_lexer": "ipython3",
   "version": "3.7.4"
  }
 },
 "nbformat": 4,
 "nbformat_minor": 4
}
