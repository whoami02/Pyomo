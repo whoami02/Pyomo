{
 "cells": [
  {
   "cell_type": "code",
   "execution_count": 15,
   "metadata": {},
   "outputs": [],
   "source": [
    "from pyomo.environ import *\n",
    "import numpy as np"
   ]
  },
  {
   "cell_type": "code",
   "execution_count": 16,
   "metadata": {},
   "outputs": [],
   "source": [
    "model = AbstractModel()\n",
    "model.i = Set()\n",
    "model.j = Set()\n",
    "model.t = Set()\n",
    "model.Demand   = Param(model.j) \n",
    "model.pmin     = Param(model.i)\n",
    "model.pmax     = Param(model.i)\n",
    "model.Cost     = Param(model.i)\n",
    "model.pattern  = Param(model.t)\n",
    "model.distance = Param(model.i,model.j, within=Reals)\n",
    "model.x = Var(model.t,model.i,model.j, bounds=(0,300), within=Reals)\n",
    "model.OF = Var(within=Reals)\n",
    "\n",
    "def Pbounds(model,t,i):\n",
    "    return (model.pmin[i] , model.pmax[i])\n",
    "model.P = Var(model.t,model.i, bounds=Pbounds, domain=Reals)\n",
    "\n",
    "def rule_C1(model,t,i):\n",
    "        return  sum(model.x[t,i,j] for j in model.j)==model.P[t,i]\n",
    "model.C1   = Constraint(model.t,model.i,rule=rule_C1)\n",
    "\n",
    "def rule_C2(model,t,j):\n",
    "        return  sum(model.x[t,i,j] for i in model.i)>=model.Demand[j]*model.pattern[t]\n",
    "model.C2   = Constraint(model.t,model.j,rule=rule_C2)\n",
    "def rule_OF(model):\n",
    "    return model.OF==sum(model.P[t,i]*model.Cost[i] for i in model.i for t in model.t) + sum(model.x[t,i,j]*model.distance[i,j] for i in model.i for j in model.j for t in model.t)\n",
    "model.C3   = Constraint(rule=rule_OF)\n",
    "model.obj1 = Objective(expr=model.OF, sense=minimize)"
   ]
  },
  {
   "cell_type": "code",
   "execution_count": 17,
   "metadata": {},
   "outputs": [
    {
     "name": "stdout",
     "output_type": "stream",
     "text": [
      "OF=  42205.5\n"
     ]
    }
   ],
   "source": [
    "opt = SolverFactory('glpk')\n",
    "instance = model.create_instance(\"Ex31-dynamic.dat\")\n",
    "results = opt.solve(instance) # solves and updates instance\n",
    "print('OF= ',value(instance.OF))"
   ]
  },
  {
   "cell_type": "code",
   "execution_count": 18,
   "metadata": {},
   "outputs": [
    {
     "name": "stdout",
     "output_type": "stream",
     "text": [
      "t= 1 84.0 0 900\n",
      "t= 1 84.0 10 850\n",
      "t= 1 20.0 20 750\n",
      "t= 2 168.0 0 900\n",
      "t= 2 188.0 10 850\n",
      "t= 2 20.0 20 750\n",
      "t= 3 252.0 0 900\n",
      "t= 3 292.0 10 850\n",
      "t= 3 20.0 20 750\n",
      "t= 4 300.0 0 900\n",
      "t= 4 620.0 10 850\n",
      "t= 4 20.0 20 750\n",
      "t= 5 300.0 0 900\n",
      "t= 5 526.0 10 850\n",
      "t= 5 20.0 20 750\n",
      "t= 6 300.0 0 900\n",
      "t= 6 479.0 10 850\n",
      "t= 6 20.0 20 750\n",
      "(1, 1, 1) 0.0\n",
      "(1, 1, 2) 0.0\n",
      "(1, 1, 3) 84.0\n",
      "(1, 1, 4) 0.0\n",
      "(1, 2, 1) 42.0\n",
      "(1, 2, 2) 18.0\n",
      "(1, 2, 3) 0.0\n",
      "(1, 2, 4) 24.0\n",
      "(1, 3, 1) 0.0\n",
      "(1, 3, 2) 20.0\n",
      "(1, 3, 3) 0.0\n",
      "(1, 3, 4) 0.0\n",
      "(2, 1, 1) 0.0\n",
      "(2, 1, 2) 0.0\n",
      "(2, 1, 3) 168.0\n",
      "(2, 1, 4) 0.0\n",
      "(2, 2, 1) 64.0\n",
      "(2, 2, 2) 76.0\n",
      "(2, 2, 3) 0.0\n",
      "(2, 2, 4) 48.0\n",
      "(2, 3, 1) 20.0\n",
      "(2, 3, 2) 0.0\n",
      "(2, 3, 3) 0.0\n",
      "(2, 3, 4) 0.0\n",
      "(3, 1, 1) 0.0\n",
      "(3, 1, 2) 0.0\n",
      "(3, 1, 3) 252.0\n",
      "(3, 1, 4) 0.0\n",
      "(3, 2, 1) 106.0\n",
      "(3, 2, 2) 114.0\n",
      "(3, 2, 3) 0.0\n",
      "(3, 2, 4) 72.0\n",
      "(3, 3, 1) 20.0\n",
      "(3, 3, 2) 0.0\n",
      "(3, 3, 3) 0.0\n",
      "(3, 3, 4) 0.0\n",
      "(4, 1, 1) 0.0\n",
      "(4, 1, 2) 0.0\n",
      "(4, 1, 3) 300.0\n",
      "(4, 1, 4) 0.0\n",
      "(4, 2, 1) 190.0\n",
      "(4, 2, 2) 190.0\n",
      "(4, 2, 3) 120.0\n",
      "(4, 2, 4) 120.0\n",
      "(4, 3, 1) 20.0\n",
      "(4, 3, 2) 0.0\n",
      "(4, 3, 3) 0.0\n",
      "(4, 3, 4) 0.0\n",
      "(5, 1, 1) 0.0\n",
      "(5, 1, 2) 0.0\n",
      "(5, 1, 3) 300.0\n",
      "(5, 1, 4) 0.0\n",
      "(5, 2, 1) 169.0\n",
      "(5, 2, 2) 171.0\n",
      "(5, 2, 3) 78.0\n",
      "(5, 2, 4) 108.0\n",
      "(5, 3, 1) 20.0\n",
      "(5, 3, 2) 0.0\n",
      "(5, 3, 3) 0.0\n",
      "(5, 3, 4) 0.0\n",
      "(6, 1, 1) 0.0\n",
      "(6, 1, 2) 0.0\n",
      "(6, 1, 3) 300.0\n",
      "(6, 1, 4) 0.0\n",
      "(6, 2, 1) 158.5\n",
      "(6, 2, 2) 161.5\n",
      "(6, 2, 3) 57.0\n",
      "(6, 2, 4) 102.0\n",
      "(6, 3, 1) 20.0\n",
      "(6, 3, 2) 0.0\n",
      "(6, 3, 3) 0.0\n",
      "(6, 3, 4) 0.0\n"
     ]
    }
   ],
   "source": [
    "for t in instance.t:\n",
    "    for i in instance.i:\n",
    "        print('t=',t,value(instance.P[t,i]),value(instance.pmin[i]),value(instance.pmax[i]))\n",
    "for t in instance.t:\n",
    "    for i in instance.i:\n",
    "        for j in instance.j:\n",
    "            print((t,i,j),value(instance.x[t,i,j]))"
   ]
  },
  {
   "cell_type": "code",
   "execution_count": null,
   "metadata": {},
   "outputs": [],
   "source": []
  }
 ],
 "metadata": {
  "kernelspec": {
   "display_name": "Python 3",
   "language": "python",
   "name": "python3"
  },
  "language_info": {
   "codemirror_mode": {
    "name": "ipython",
    "version": 3
   },
   "file_extension": ".py",
   "mimetype": "text/x-python",
   "name": "python",
   "nbconvert_exporter": "python",
   "pygments_lexer": "ipython3",
   "version": "3.7.4"
  }
 },
 "nbformat": 4,
 "nbformat_minor": 4
}
