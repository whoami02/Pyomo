{
 "cells": [
  {
   "cell_type": "code",
   "execution_count": 1,
   "metadata": {},
   "outputs": [],
   "source": [
    "from pyomo.environ import *\n",
    "import numpy as np\n",
    "# max f1 = 2*pi*r^2*h \n",
    "# h^2+r^2 =R^2 \n",
    "# 0<h<R\n",
    "# 0<r<R\n",
    "# find the maximum volume of a cylinder in a sphere "
   ]
  },
  {
   "cell_type": "code",
   "execution_count": 2,
   "metadata": {},
   "outputs": [],
   "source": [
    "model = ConcreteModel()\n",
    "model.R=Param(initialize=1)\n",
    "model.h=Var(bounds=(0,model.R), initialize=model.R)\n",
    "model.r=Var(bounds=(0,model.R), initialize=model.R)\n",
    "model.C=Constraint(expr=model.r**2+model.h**2==model.R**2)\n",
    "model.OF=Objective(expr=2*np.pi*(model.r**2)*model.h,sense=maximize)"
   ]
  },
  {
   "cell_type": "code",
   "execution_count": 3,
   "metadata": {},
   "outputs": [],
   "source": [
    "solver = SolverFactory('ipopt')\n",
    "results=solver.solve(model);"
   ]
  },
  {
   "cell_type": "code",
   "execution_count": 4,
   "metadata": {},
   "outputs": [
    {
     "name": "stdout",
     "output_type": "stream",
     "text": [
      "r= 0.82\n",
      "h= 0.58\n",
      "OF= 2.42\n"
     ]
    }
   ],
   "source": [
    "print('r=' ,round(value(model.r),2))\n",
    "print('h=' ,round(value(model.h),2))\n",
    "print('OF=',round(value(model.OF),2))"
   ]
  },
  {
   "cell_type": "code",
   "execution_count": 5,
   "metadata": {},
   "outputs": [
    {
     "name": "stdout",
     "output_type": "stream",
     "text": [
      "r= 0.8164965807359517\n"
     ]
    }
   ],
   "source": [
    "print('r=' ,value(model.r))\n"
   ]
  },
  {
   "cell_type": "code",
   "execution_count": null,
   "metadata": {},
   "outputs": [],
   "source": []
  }
 ],
 "metadata": {
  "kernelspec": {
   "display_name": "Python 3",
   "language": "python",
   "name": "python3"
  },
  "language_info": {
   "codemirror_mode": {
    "name": "ipython",
    "version": 3
   },
   "file_extension": ".py",
   "mimetype": "text/x-python",
   "name": "python",
   "nbconvert_exporter": "python",
   "pygments_lexer": "ipython3",
   "version": "3.7.4"
  }
 },
 "nbformat": 4,
 "nbformat_minor": 4
}
