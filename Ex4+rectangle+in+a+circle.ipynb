{
 "cells": [
  {
   "cell_type": "code",
   "execution_count": 10,
   "metadata": {},
   "outputs": [],
   "source": [
    "from pyomo.environ import *\n",
    "# max f1 = 4XY <br>\n",
    "# st  X^2+Y^2=R^2\n",
    "# 0<X,Y<R\n",
    "#find the maximum area of a rectangle in a circle "
   ]
  },
  {
   "cell_type": "code",
   "execution_count": 11,
   "metadata": {},
   "outputs": [],
   "source": [
    "model = ConcreteModel()\n",
    "model.R=Param(initialize=10)\n",
    "model.x=Var(bounds=(0,model.R), initialize=model.R)\n",
    "model.y=Var(bounds=(0,model.R), initialize=model.R)\n",
    "model.C1=Constraint(expr=model.x**2+model.y**2==model.R**2)\n",
    "model.f1=Objective(expr=4*model.x*model.y,sense=maximize)"
   ]
  },
  {
   "cell_type": "code",
   "execution_count": 12,
   "metadata": {},
   "outputs": [],
   "source": [
    "opt = SolverFactory('ipopt')\n",
    "results=opt.solve(model);"
   ]
  },
  {
   "cell_type": "code",
   "execution_count": 13,
   "metadata": {},
   "outputs": [
    {
     "name": "stdout",
     "output_type": "stream",
     "text": [
      "x=  7.071\n",
      "y=  7.071\n",
      "OF=  200.0\n"
     ]
    }
   ],
   "source": [
    "print('x= ',round(value(model.x),3))\n",
    "print('y= ',round(value(model.y),3))\n",
    "print('OF= ',round(value(model.f1),3) )"
   ]
  },
  {
   "cell_type": "code",
   "execution_count": 14,
   "metadata": {},
   "outputs": [],
   "source": [
    "model.x.fix(1)\n",
    "results=solver.solve(model);"
   ]
  },
  {
   "cell_type": "code",
   "execution_count": 15,
   "metadata": {},
   "outputs": [
    {
     "name": "stdout",
     "output_type": "stream",
     "text": [
      "x=  1\n",
      "y=  9.95\n",
      "OF=  39.799\n"
     ]
    }
   ],
   "source": [
    "print('x= ',round(value(model.x),3))\n",
    "print('y= ',round(value(model.y),3))\n",
    "print('OF= ',round(value(model.f1),3) )"
   ]
  },
  {
   "cell_type": "code",
   "execution_count": 16,
   "metadata": {},
   "outputs": [],
   "source": [
    "model.x.unfix()\n",
    "model.y.fix(1)\n",
    "results=solver.solve(model);"
   ]
  },
  {
   "cell_type": "code",
   "execution_count": 17,
   "metadata": {},
   "outputs": [
    {
     "name": "stdout",
     "output_type": "stream",
     "text": [
      "x=  9.95\n",
      "y=  1\n",
      "OF=  39.799\n"
     ]
    }
   ],
   "source": [
    "print('x= ',round(value(model.x),3))\n",
    "print('y= ',round(value(model.y),3))\n",
    "print('OF= ',round(value(model.f1),3) )"
   ]
  },
  {
   "cell_type": "code",
   "execution_count": 18,
   "metadata": {},
   "outputs": [],
   "source": [
    "model.x.unfix()\n",
    "model.y.unfix()\n",
    "results=solver.solve(model);"
   ]
  },
  {
   "cell_type": "code",
   "execution_count": 19,
   "metadata": {},
   "outputs": [
    {
     "name": "stdout",
     "output_type": "stream",
     "text": [
      "\n",
      "Problem: \n",
      "- Lower bound: -inf\n",
      "  Upper bound: inf\n",
      "  Number of objectives: 1\n",
      "  Number of constraints: 1\n",
      "  Number of variables: 2\n",
      "  Sense: unknown\n",
      "Solver: \n",
      "- Status: ok\n",
      "  Message: Ipopt 3.11.1\\x3a Optimal Solution Found\n",
      "  Termination condition: optimal\n",
      "  Id: 0\n",
      "  Error rc: 0\n",
      "  Time: 0.03000164031982422\n",
      "Solution: \n",
      "- number of solutions: 0\n",
      "  number of solutions displayed: 0\n",
      "\n"
     ]
    }
   ],
   "source": [
    "print(results)"
   ]
  },
  {
   "cell_type": "code",
   "execution_count": null,
   "metadata": {},
   "outputs": [],
   "source": []
  }
 ],
 "metadata": {
  "kernelspec": {
   "display_name": "Python 3",
   "language": "python",
   "name": "python3"
  },
  "language_info": {
   "codemirror_mode": {
    "name": "ipython",
    "version": 3
   },
   "file_extension": ".py",
   "mimetype": "text/x-python",
   "name": "python",
   "nbconvert_exporter": "python",
   "pygments_lexer": "ipython3",
   "version": "3.7.4"
  }
 },
 "nbformat": 4,
 "nbformat_minor": 4
}
